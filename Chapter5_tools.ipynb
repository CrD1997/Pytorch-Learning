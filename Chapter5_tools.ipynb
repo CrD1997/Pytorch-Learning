{
 "cells": [
  {
   "cell_type": "markdown",
   "metadata": {},
   "source": [
    "# Pytorch常用模块\n",
    "在训练神经网络过程中，需要用到很多工具，其中最重要的三部分是：\n",
    "- 数据\n",
    "- 可视化\n",
    "- `GPU`加速\n",
    "\n",
    "本章主要介绍Pytorch在这几方面的工具模块，合理使用这些工具能够极大地提高编码效率。"
   ]
  },
  {
   "cell_type": "markdown",
   "metadata": {},
   "source": [
    "## 数据处理\n",
    "\n",
    "### 数据加载\n",
    "\n",
    "在`PyTorch`中，数据加载可通过自定义的数据集对象。数据集对象被抽象为`Dataset`类，实现自定义的数据集需要继承`Dataset`，并实现两个`Python`魔法方法：\n",
    "- `__getitem__`：返回一条数据，或一个样本。`obj[index]`等价于`obj.__getitem__(index)`\n",
    "- `__len__`：返回样本的数量。`len(obj)`等价于`obj.__len__()`\n",
    "\n",
    "以`Kaggle`经典挑战赛[\"Dogs vs. Cat\"](https://www.kaggle.com/c/dogs-vs-cats/)的数据为例，来详细讲解如何处理数据。`\"Dogs vs. Cats\"`是一个分类问题，判断一张图片是狗还是猫，其所有图片都存放在一个文件夹下，根据文件名的前缀判断是狗还是猫。"
   ]
  },
  {
   "cell_type": "code",
   "execution_count": 2,
   "metadata": {},
   "outputs": [
    {
     "name": "stdout",
     "output_type": "stream",
     "text": [
      "env: LS_COLORS=None\n",
      "参数太多 - ascii\n"
     ]
    }
   ],
   "source": [
    "%env LS_COLORS = None \n",
    "!tree --charset ascii  data/dogcat/"
   ]
  },
  {
   "cell_type": "code",
   "execution_count": 3,
   "metadata": {
    "collapsed": true
   },
   "outputs": [],
   "source": [
    "import torch as t\n",
    "from torch.utils import data"
   ]
  },
  {
   "cell_type": "code",
   "execution_count": 4,
   "metadata": {
    "collapsed": true
   },
   "outputs": [],
   "source": [
    "import os\n",
    "from PIL import  Image\n",
    "import numpy as np\n",
    "\n",
    "class DogCat(data.Dataset):\n",
    "    def __init__(self, root):\n",
    "        imgs = os.listdir(root)\n",
    "        # 所有图片的绝对路径\n",
    "        # 这里不实际加载图片，只是指定路径，当调用__getitem__时才会真正读图片\n",
    "        self.imgs = [os.path.join(root, img) for img in imgs]\n",
    "        \n",
    "    def __getitem__(self, index):\n",
    "        img_path = self.imgs[index]\n",
    "        # dog->1， cat->0\n",
    "        label = 1 if 'dog' in img_path.split('/')[-1] else 0\n",
    "        pil_img = Image.open(img_path)\n",
    "        array = np.asarray(pil_img)\n",
    "        data = t.from_numpy(array)\n",
    "        return data, label\n",
    "    \n",
    "    def __len__(self):\n",
    "        return len(self.imgs)"
   ]
  },
  {
   "cell_type": "code",
   "execution_count": 5,
   "metadata": {},
   "outputs": [
    {
     "name": "stdout",
     "output_type": "stream",
     "text": [
      "torch.Size([500, 497, 3]) tensor(106.4915) 0\n",
      "torch.Size([499, 379, 3]) tensor(171.8085) 0\n",
      "torch.Size([236, 289, 3]) tensor(130.3004) 0\n",
      "torch.Size([374, 499, 3]) tensor(115.5177) 0\n",
      "torch.Size([375, 499, 3]) tensor(116.8138) 1\n",
      "torch.Size([375, 499, 3]) tensor(150.5079) 1\n",
      "torch.Size([377, 499, 3]) tensor(151.7174) 1\n",
      "torch.Size([400, 300, 3]) tensor(128.1550) 1\n"
     ]
    }
   ],
   "source": [
    "dataset = DogCat('./data/dogcat/')\n",
    "img, label = dataset[0] # 相当于调用dataset.__getitem__(0)\n",
    "for img, label in dataset:\n",
    "    print(img.size(), img.float().mean(), label)"
   ]
  },
  {
   "cell_type": "markdown",
   "metadata": {},
   "source": [
    "#### Note\n",
    "上面的代码自定义了自己的数据集，并可以依次获取。但这里返回的数据不适合实际使用，因其具有如下两方面问题：\n",
    "- 返回样本的形状不一，因每张图片的大小不一样，这对于需要取`batch`训练的神经网络来说很不友好\n",
    "- 返回样本的数值较大，未归一化至`[-1, 1]`\n",
    "\n",
    "针对上述问题，`PyTorch`提供了`torchvision`[^1]。它是一个视觉工具包，提供了很多视觉图像处理的工具，其中`transforms`模块提供了对`PIL Image`对象和`Tensor`对象的常用操作。\n",
    "\n",
    "> 对`PIL Image`的操作包括：\n",
    "> - `Scale`：调整图片尺寸，长宽比保持不变\n",
    "> - `CenterCrop`、`RandomCrop`、`RandomResizedCrop`：裁剪图片\n",
    "> - `Pad`：填充\n",
    "> - `ToTensor`：将`PIL Image`对象转成`Tensor`，会自动将`[0, 255]`归一化至`[0, 1]`\n",
    "\n",
    "> 对`Tensor`的操作包括：\n",
    "> - `Normalize`：标准化，即减均值，除以标准差\n",
    "> - `ToPILImage`：将`Tensor`转为`PIL Image`对象\n",
    "\n",
    "如果要对图片进行多个操作，可通过`Compose`函数将这些操作拼接起来，类似于`nn.Sequential`。注意，这些操作定义后是以函数的形式存在，真正使用时需调用它的`__call__`方法，这点类似于`nn.Module`。\n",
    "> 例如要将图片调整为`224×224`，首先应构建这个操作`trans = Resize((224, 224))`，然后调用`trans(img)`。下面我们就用`transforms`的这些操作来优化上面实现的`dataset`。\n",
    "[^1]: https://github.com/pytorch/vision/"
   ]
  },
  {
   "cell_type": "code",
   "execution_count": 6,
   "metadata": {},
   "outputs": [
    {
     "name": "stdout",
     "output_type": "stream",
     "text": [
      "torch.Size([3, 224, 224]) 1\n",
      "torch.Size([3, 224, 224]) 1\n",
      "torch.Size([3, 224, 224]) 1\n",
      "torch.Size([3, 224, 224]) 1\n",
      "torch.Size([3, 224, 224]) 0\n",
      "torch.Size([3, 224, 224]) 0\n",
      "torch.Size([3, 224, 224]) 0\n",
      "torch.Size([3, 224, 224]) 0\n"
     ]
    }
   ],
   "source": [
    "import os\n",
    "from PIL import  Image\n",
    "import numpy as np\n",
    "from torchvision import transforms as T\n",
    "\n",
    "transform = T.Compose([\n",
    "    T.Resize(224), # 缩放图片(Image)，保持长宽比不变，最短边为224像素\n",
    "    T.CenterCrop(224), # 从图片中间切出224*224的图片\n",
    "    T.ToTensor(), # 将图片(Image)转成Tensor，归一化至[0, 1]\n",
    "    T.Normalize(mean=[.5, .5, .5], std=[.5, .5, .5]) # 标准化至[-1, 1]，规定均值和标准差\n",
    "])\n",
    "\n",
    "class DogCat(data.Dataset):\n",
    "    def __init__(self, root, transforms=None):\n",
    "        imgs = os.listdir(root)\n",
    "        self.imgs = [os.path.join(root, img) for img in imgs]\n",
    "        self.transforms=transforms\n",
    "        \n",
    "    def __getitem__(self, index):\n",
    "        img_path = self.imgs[index]\n",
    "        label = 0 if 'dog' in img_path.split('/')[-1] else 1\n",
    "        data = Image.open(img_path)\n",
    "        if self.transforms:\n",
    "            data = self.transforms(data)\n",
    "        return data, label\n",
    "    \n",
    "    def __len__(self):\n",
    "        return len(self.imgs)\n",
    "\n",
    "dataset = DogCat('./data/dogcat/', transforms=transform)\n",
    "img, label = dataset[0]\n",
    "for img, label in dataset:\n",
    "    print(img.size(), label)"
   ]
  },
  {
   "cell_type": "code",
   "execution_count": null,
   "metadata": {
    "collapsed": true
   },
   "outputs": [],
   "source": []
  }
 ],
 "metadata": {
  "kernelspec": {
   "display_name": "Python 3",
   "language": "python",
   "name": "python3"
  },
  "language_info": {
   "codemirror_mode": {
    "name": "ipython",
    "version": 3
   },
   "file_extension": ".py",
   "mimetype": "text/x-python",
   "name": "python",
   "nbconvert_exporter": "python",
   "pygments_lexer": "ipython3",
   "version": "3.6.1"
  }
 },
 "nbformat": 4,
 "nbformat_minor": 2
}
